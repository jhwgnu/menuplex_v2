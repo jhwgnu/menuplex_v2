{
 "cells": [
  {
   "cell_type": "code",
   "execution_count": 26,
   "metadata": {
    "collapsed": true
   },
   "outputs": [],
   "source": [
    "import requests, urllib.request\n",
    "from datetime import datetime\n",
    "from bs4 import BeautifulSoup\n",
    "import re"
   ]
  },
  {
   "cell_type": "markdown",
   "metadata": {},
   "source": [
    "##### 주소\n",
    "\n",
    "생활관 :           https://www.uos.ac.kr/food/placeList.do?rstcde=050\n",
    "\n",
    "본관8층 :          https://www.uos.ac.kr/food/placeList.do?rstcde=010\n",
    "\n",
    "자연과확관 :       https://www.uos.ac.kr/food/placeList.do?rstcde=040\n",
    "\n",
    "양식당 :           https://www.uos.ac.kr/food/placeList.do?rstcde=030\n",
    "\n",
    "학생회관 1층식당 : https://www.uos.ac.kr/food/placeList.do"
   ]
  },
  {
   "cell_type": "markdown",
   "metadata": {},
   "source": [
    "### 학생식당"
   ]
  },
  {
   "cell_type": "code",
   "execution_count": 96,
   "metadata": {
    "collapsed": false
   },
   "outputs": [],
   "source": [
    "html =urllib.request.urlopen(\"https://www.uos.ac.kr/food/placeList.do?rstcde=050\")\n",
    "soup=BeautifulSoup(html, 'html.parser')\n",
    "\n",
    "x = soup.select('form#listForm')[0]"
   ]
  },
  {
   "cell_type": "markdown",
   "metadata": {},
   "source": [
    "### 식당 이름"
   ]
  },
  {
   "cell_type": "code",
   "execution_count": 97,
   "metadata": {
    "collapsed": false
   },
   "outputs": [
    {
     "data": {
      "text/plain": [
       "'생활관'"
      ]
     },
     "execution_count": 97,
     "metadata": {},
     "output_type": "execute_result"
    }
   ],
   "source": [
    "soup.select('h4.mt20')[0].string"
   ]
  },
  {
   "cell_type": "markdown",
   "metadata": {},
   "source": [
    "### 식사 시간"
   ]
  },
  {
   "cell_type": "code",
   "execution_count": 98,
   "metadata": {
    "collapsed": false
   },
   "outputs": [
    {
     "data": {
      "text/plain": [
       "'조식'"
      ]
     },
     "execution_count": 98,
     "metadata": {},
     "output_type": "execute_result"
    }
   ],
   "source": [
    "x.select('div#day tr th')[0].contents[0].string \n",
    "# x.select('div#day tr th')[1].contents[0].string  중식\n",
    "# x.select('div#day tr th')[1].contents[0].string  석식"
   ]
  },
  {
   "cell_type": "markdown",
   "metadata": {},
   "source": [
    "### 식단 이름"
   ]
  },
  {
   "cell_type": "code",
   "execution_count": 99,
   "metadata": {
    "collapsed": false
   },
   "outputs": [
    {
     "data": {
      "text/plain": [
       "['윤모닝 2,000원',\n",
       " '아메리칸핫도그 2,000원',\n",
       " '시립샌드위치 2,000원',\n",
       " '닭가슴살샐러드팩 2,900원',\n",
       " '치킨샐러드팩 2,900원',\n",
       " '단호박샐러드팩 2,900원',\n",
       " '사골떡만두국 3,500원',\n",
       " '얼갈이국 2,000원']"
      ]
     },
     "execution_count": 99,
     "metadata": {},
     "output_type": "execute_result"
    }
   ],
   "source": [
    "x.select('div#day tr td')[0].find_all(string=re.compile(\"^[가-힣]+.+\\d*원$\"))"
   ]
  }
 ],
 "metadata": {
  "anaconda-cloud": {},
  "kernelspec": {
   "display_name": "Django Shell-Plus",
   "language": "python",
   "name": "django_extensions"
  },
  "language_info": {
   "codemirror_mode": {
    "name": "ipython",
    "version": 3
   },
   "file_extension": ".py",
   "mimetype": "text/x-python",
   "name": "python",
   "nbconvert_exporter": "python",
   "pygments_lexer": "ipython3",
   "version": "3.5.2"
  }
 },
 "nbformat": 4,
 "nbformat_minor": 1
}
