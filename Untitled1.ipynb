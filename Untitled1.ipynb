{
 "cells": [
  {
   "cell_type": "code",
   "execution_count": 5,
   "metadata": {
    "collapsed": true
   },
   "outputs": [],
   "source": [
    "import requests, urllib.request\n",
    "from bs4 import BeautifulSoup"
   ]
  },
  {
   "cell_type": "code",
   "execution_count": 99,
   "metadata": {
    "collapsed": false
   },
   "outputs": [
    {
     "data": {
      "text/plain": [
       "'학생회관식당'"
      ]
     },
     "execution_count": 99,
     "metadata": {},
     "output_type": "execute_result"
    }
   ],
   "source": [
    "html =urllib.request.urlopen(\"http://www.snuco.com/html/restaurant/restaurant_menu1.asp?date=2017-02-07\")\n",
    "soup=BeautifulSoup(html, 'html.parser')\n",
    "\n",
    "x = soup.select('.Content_bg table tbody tr')\n",
    "\n",
    "restaurant_name = x[1].find('span').contents[0]\n",
    "restaurant_name"
   ]
  },
  {
   "cell_type": "code",
   "execution_count": 100,
   "metadata": {
    "collapsed": false
   },
   "outputs": [
    {
     "data": {
      "text/plain": [
       "['ⓕ쌈정식', 'ⓒ버섯육개장']"
      ]
     },
     "execution_count": 100,
     "metadata": {},
     "output_type": "execute_result"
    }
   ],
   "source": [
    "dinner = x[2].select('td')[6].contents[0]\n",
    "dinner.replace('\\xa0','').split('/')"
   ]
  },
  {
   "cell_type": "code",
   "execution_count": 102,
   "metadata": {
    "collapsed": false,
    "scrolled": true
   },
   "outputs": [
    {
     "data": {
      "text/plain": [
       "['ⓓ돈까스커리', 'ⓓ순두부찌개']"
      ]
     },
     "execution_count": 102,
     "metadata": {},
     "output_type": "execute_result"
    }
   ],
   "source": [
    "lunch = x[2].select('td')[4].contents[0]\n",
    "lunch.replace('\\xa0','').split('/')"
   ]
  },
  {
   "cell_type": "code",
   "execution_count": 101,
   "metadata": {
    "collapsed": false
   },
   "outputs": [
    {
     "data": {
      "text/plain": [
       "['']"
      ]
     },
     "execution_count": 101,
     "metadata": {},
     "output_type": "execute_result"
    }
   ],
   "source": [
    "morning = x[2].select('td')[2].contents[0]\n",
    "morning.replace('\\xa0','').split('/')"
   ]
  },
  {
   "cell_type": "code",
   "execution_count": 8,
   "metadata": {
    "collapsed": false
   },
   "outputs": [
    {
     "name": "stdout",
     "output_type": "stream",
     "text": [
      "4식당\n",
      "lunch :ⓕ매콤치즈불닭\n",
      "lunch :ⓕ오므라이스&연어치즈돈까스\n",
      "dinner : ⓕ꼬치소세지부대찌개&샤워크림통감자구이\n",
      "두레미담\n",
      "lunch :ⓘ묵은지김치찌개,매실소스등심탕수육,후식음료\n",
      "dinner : ⓘ철판쭈꾸미덮밥,참치샌드위치,후식음료\n",
      "301동식당\n",
      "lunch :ⓔ돈육김치찌개&모듬사리\n",
      "lunch :ⓔ일식라멘\n",
      "lunch :ⓔ301마요덮밥\n",
      "lunch :ⓕ돈까스4종소스(선택1)\n",
      "dinner : ⓔ토마토소스리조또\n",
      "예술계식당(74동)\n",
      "lunch :ⓖ철판닭갈비\n",
      "lunch :ⓗ고구마치즈돈까스&바게트\n",
      "dinner : ⓕ사천식짜장덮밥&짬뽕수제비국\n",
      "샤반\n",
      "lunch :한식 Serving 메뉴\n",
      "dinner : 한식 Serving 메뉴\n",
      "공대간이식당\n",
      "lunch :ⓓ자장면\n",
      "lunch :ⓓ사천자장면\n",
      "lunch :ⓓ삼선짬뽕\n",
      "lunch :ⓕ짬짜면\n",
      "lunch :7000 치킨탕수육\n",
      "상아회관\n",
      "lunch :ⓔ삼색나물비빔밥(홍합미역국,고순볶음,파래무침,배추김치)\n",
      "소담마루\n",
      "lunch :한일식 Serving 메뉴\n",
      "dinner : 한일식 Serving 메뉴\n",
      "220동식당\n",
      "lunch :ⓔ사골떡만두국\n",
      "lunch :ⓓ미트소스스파게티\n",
      "dinner : ⓔ뚝)된장찌개\n",
      "dinner : ⓓ참치마요덮밥\n",
      "라운지오\n",
      "lunch :피자, 스파게티류\n",
      "dinner : 피자, 스파게티류\n"
     ]
    }
   ],
   "source": [
    "html =urllib.request.urlopen(\"http://www.snuco.com/html/restaurant/restaurant_menu2.asp?date=2017-02-07\")\n",
    "soup=BeautifulSoup(html, 'html.parser')\n",
    "\n",
    "snu_list1 = soup.select('.Content_bg table tbody tr')\n",
    "\n",
    "for restaurant in snu_list1[1:] :\n",
    "    restaurant_name = restaurant.find('span').contents[0]\n",
    "    print(restaurant.find('span').contents[0])\n",
    "    \n",
    "    mornings = restaurant.select('td')[2].contents[0].replace('\\xa0','').split('/')\n",
    "    if mornings[0] !='':\n",
    "        for morning in mornings :\n",
    "            print(\"morning :\" + morning)\n",
    "            \n",
    "    lunchs = restaurant.select('td')[4].contents[0].replace('\\xa0','').split('/')\n",
    "    if lunchs[0] !='':\n",
    "        for lunch in lunchs :\n",
    "            print(\"lunch :\" + lunch)\n",
    "    \n",
    "    dinners = restaurant.select('td')[6].contents[0].replace('\\xa0','').split('/')\n",
    "    if dinners[0] !='':\n",
    "        for dinner in dinners :\n",
    "            print(\"dinner : \"+dinner)"
   ]
  },
  {
   "cell_type": "code",
   "execution_count": 105,
   "metadata": {
    "collapsed": false
   },
   "outputs": [
    {
     "data": {
      "text/plain": [
       "'4식당'"
      ]
     },
     "execution_count": 105,
     "metadata": {},
     "output_type": "execute_result"
    }
   ],
   "source": [
    "html =urllib.request.urlopen(\"http://www.snuco.com/html/restaurant/restaurant_menu2.asp\")\n",
    "soup=BeautifulSoup(html, 'html.parser')\n",
    "x = soup.select('.Content_bg table tbody tr')\n",
    "\n"
   ]
  },
  {
   "cell_type": "code",
   "execution_count": 111,
   "metadata": {
    "collapsed": false
   },
   "outputs": [
    {
     "name": "stdout",
     "output_type": "stream",
     "text": [
      "학생회관식당\n",
      "morning :  ['ⓐ버섯스크램블에그']\n",
      "lunch :  ['ⓓ데리치킨', 'ⓐ마파두부', 'ⓓ돌솥부대찌개']\n",
      "dinner :  ['ⓓ자반고등어구이', 'ⓐ무쇠고기국']\n",
      "3식당\n",
      "morning :  ['']\n",
      "lunch :  ['ⓓ돈까스커리', 'ⓓ순두부찌개']\n",
      "dinner :  ['ⓕ쌈정식', 'ⓒ버섯육개장']\n",
      "기숙사식당\n",
      "morning :  ['ⓒ조개탕']\n",
      "lunch :  ['ⓓ단호박토마토소스커리', 'ⓕ돌솥영계백숙']\n",
      "dinner :  ['ⓒ북어탕', 'ⓓ쇠고기브로콜리볶음', 'ⓕ새우튀김돈까스벤또']\n",
      "자하연식당\n",
      "morning :  ['']\n",
      "lunch :  ['ⓓ얼큰홍합어묵꼬치', 'ⓓ마늘볶음밥&찹소스']\n",
      "dinner :  ['ⓒ청국장찌개', 'ⓕ한방닭찜']\n",
      "302동식당\n",
      "morning :  ['']\n",
      "lunch :  ['ⓓ낙지볶음&소면', 'ⓓ만두육개장']\n",
      "dinner :  ['ⓒ미역수제비', 'ⓓ쇠고기브로콜리볶음']\n",
      "솔밭간이식당\n",
      "morning :  ['']\n",
      "lunch :  ['']\n",
      "dinner :  ['']\n",
      "동원관식당\n",
      "morning :  ['']\n",
      "lunch :  ['ⓒ잡채덮밥', 'ⓕ영계백숙']\n",
      "dinner :  ['ⓓ감자탕', 'ⓓ삼선볶음밥&짜장소스']\n",
      "감골식당\n",
      "morning :  ['']\n",
      "lunch :  ['ⓒ새우된장찌개', 'ⓓ양념치킨']\n",
      "dinner :  ['ⓓ오삼불고기']\n"
     ]
    }
   ],
   "source": [
    "for restaurant in snu_list1[1:] :\n",
    "    restaurant_name = restaurant.find('span').contents[0]\n",
    "    print(restaurant.find('span').contents[0])\n",
    "    morning = restaurant.select('td')[2].contents[0].replace('\\xa0','').split('/')\n",
    "    print(\"morning : \",morning)\n",
    "    lunch = restaurant.select('td')[4].contents[0].replace('\\xa0','').split('/')\n",
    "    print(\"lunch : \",lunch)\n",
    "    dinner = restaurant.select('td')[6].contents[0].replace('\\xa0','').split('/')\n",
    "    print(\"dinner : \",dinner)"
   ]
  },
  {
   "cell_type": "code",
   "execution_count": 140,
   "metadata": {
    "collapsed": false
   },
   "outputs": [
    {
     "data": {
      "text/plain": [
       "[<tr>\n",
       " <td style=\"height:29px;border-top: 2px solid #c7ab61; border-bottom: 1px solid #ffffff;background-color: #eee6cf; text-align: center; vertical-align: middle;\"><img alt=\"상품명\" src=\"/images/mail/img_text_29.gif\"/></td>\n",
       " <td bgcolor=\"#ffffff\" style=\"width:1px;\"></td>\n",
       " <td style=\"border-top: 2px solid #c7ab61; border-bottom: 1px solid #ffffff;background-color: #eee6cf;text-align: center; vertical-align: middle;\"><img alt=\"옵션\" src=\"/images/mail/img_text_30.gif\"/></td>\n",
       " <td bgcolor=\"#ffffff\" style=\"width:1px;\"></td>\n",
       " <td style=\"border-top: 2px solid #c7ab61; border-bottom: 1px solid #ffffff;background-color: #eee6cf;text-align: center; vertical-align: middle;\"><img alt=\"수량\" src=\"/images/mail/img_text_31.gif\"/></td>\n",
       " <td bgcolor=\"#ffffff\" style=\"width:1px;\"></td>\n",
       " <td style=\"border-top: 2px solid #c7ab61; border-bottom: 1px solid #ffffff;background-color: #eee6cf;text-align: center; vertical-align: middle;\"><img alt=\"판매가\" src=\"/images/mail/img_text_32.gif\"/></td>\n",
       " </tr>, <tr>\n",
       " <td style=\"padding:3px;border-bottom: 1px solid #c7ab61;text-align: center; vertical-align: middle;\"><span class=\"left_text14\">4식당<br/>서당골 (76동)</span></td>\n",
       " <td bgcolor=\"#c7ab61\" style=\"width:1px;\"></td>\n",
       " <td style=\"padding:3px;border-bottom: 1px solid #c7ab61;text-align: center; vertical-align: middle;\"> </td>\n",
       " <td bgcolor=\"#c7ab61\" style=\"width:1px;\"></td>\n",
       " <td style=\"padding:3px;border-bottom: 1px solid #c7ab61;text-align: center; vertical-align: middle;\">ⓕ바지락순두부찌개/ⓕ빠리치킨&amp;밥케잌&amp;허니크링클컷 </td>\n",
       " <td bgcolor=\"#c7ab61\" style=\"width:1px;\"></td>\n",
       " <td style=\"padding:3px;border-bottom: 1px solid #c7ab61;text-align: center; vertical-align: middle;\">ⓕ돈코츠라멘&amp;코코넛고구마고로케 </td>\n",
       " </tr>, <tr>\n",
       " <td style=\"padding:3px;border-bottom: 1px solid #c7ab61;text-align: center; vertical-align: middle;\"><span class=\"left_text14\">두레미담<br/>75-1동</span></td>\n",
       " <td bgcolor=\"#c7ab61\" style=\"width:1px;\"></td>\n",
       " <td style=\"padding:3px;border-bottom: 1px solid #c7ab61;text-align: center; vertical-align: middle;\"> </td>\n",
       " <td bgcolor=\"#c7ab61\" style=\"width:1px;\"></td>\n",
       " <td style=\"padding:3px;border-bottom: 1px solid #c7ab61;text-align: center; vertical-align: middle;\">ⓘ치킨마요라이스,순대꼬치,후식음료<br/>\n",
       " ⓙ얼큰어묵탕,스모크바베큐폭찹,카레고로케&amp;케찹소스,참치두부완자,돗나물유자청무침,찰옥수수차 </td>\n",
       " <td bgcolor=\"#c7ab61\" style=\"width:1px;\"></td>\n",
       " <td style=\"padding:3px;border-bottom: 1px solid #c7ab61;text-align: center; vertical-align: middle;\">ⓘ차슈덮밥,미니라면,후식음료<br/>\n",
       " ⓙ얼큰어묵탕,강된장열무보리밥,치킨까스유린기,모듬찐만두,돗나물유자청무침,찰옥수수차 </td>\n",
       " </tr>, <tr>\n",
       " <td style=\"padding:3px;border-bottom: 1px solid #c7ab61;text-align: center; vertical-align: middle;\"><span class=\"left_text14\">301동식당<br/>301동</span></td>\n",
       " <td bgcolor=\"#c7ab61\" style=\"width:1px;\"></td>\n",
       " <td style=\"padding:3px;border-bottom: 1px solid #c7ab61;text-align: center; vertical-align: middle;\"> </td>\n",
       " <td bgcolor=\"#c7ab61\" style=\"width:1px;\"></td>\n",
       " <td style=\"padding:3px;border-bottom: 1px solid #c7ab61;text-align: center; vertical-align: middle;\">ⓔ춘천닭갈비&amp;막국수무침/ⓓ콩나물쇠고기해장국/ⓔ301마요덮밥/ⓕ돈까스4종소스(선택1)<br/>\n",
       " ⓗ우렁강된장비빔밥/ⓖ봉골레파스타 </td>\n",
       " <td bgcolor=\"#c7ab61\" style=\"width:1px;\"></td>\n",
       " <td style=\"padding:3px;border-bottom: 1px solid #c7ab61;text-align: center; vertical-align: middle;\">ⓔ새우볶음밥&amp;자장소스 </td>\n",
       " </tr>, <tr>\n",
       " <td style=\"padding:3px;border-bottom: 1px solid #c7ab61;text-align: center; vertical-align: middle;\"><span class=\"left_text14\">예술계식당(74동)<br/>74동</span></td>\n",
       " <td bgcolor=\"#c7ab61\" style=\"width:1px;\"></td>\n",
       " <td style=\"padding:3px;border-bottom: 1px solid #c7ab61;text-align: center; vertical-align: middle;\"> </td>\n",
       " <td bgcolor=\"#c7ab61\" style=\"width:1px;\"></td>\n",
       " <td style=\"padding:3px;border-bottom: 1px solid #c7ab61;text-align: center; vertical-align: middle;\">ⓖ돈육순두부찌개/ⓗ잉글리쉬블랙런치 </td>\n",
       " <td bgcolor=\"#c7ab61\" style=\"width:1px;\"></td>\n",
       " <td style=\"padding:3px;border-bottom: 1px solid #c7ab61;text-align: center; vertical-align: middle;\">ⓕ철판함박스테이크&amp;벌집감자 </td>\n",
       " </tr>, <tr>\n",
       " <td style=\"padding:3px;border-bottom: 1px solid #c7ab61;text-align: center; vertical-align: middle;\"><span class=\"left_text14\">샤반<br/>501동</span></td>\n",
       " <td bgcolor=\"#c7ab61\" style=\"width:1px;\"></td>\n",
       " <td style=\"padding:3px;border-bottom: 1px solid #c7ab61;text-align: center; vertical-align: middle;\"> </td>\n",
       " <td bgcolor=\"#c7ab61\" style=\"width:1px;\"></td>\n",
       " <td style=\"padding:3px;border-bottom: 1px solid #c7ab61;text-align: center; vertical-align: middle;\">한식 Serving 메뉴 </td>\n",
       " <td bgcolor=\"#c7ab61\" style=\"width:1px;\"></td>\n",
       " <td style=\"padding:3px;border-bottom: 1px solid #c7ab61;text-align: center; vertical-align: middle;\">한식 Serving 메뉴 </td>\n",
       " </tr>, <tr>\n",
       " <td style=\"padding:3px;border-bottom: 1px solid #c7ab61;text-align: center; vertical-align: middle;\"><span class=\"left_text14\">공대간이식당<br/>30-2동</span></td>\n",
       " <td bgcolor=\"#c7ab61\" style=\"width:1px;\"></td>\n",
       " <td style=\"padding:3px;border-bottom: 1px solid #c7ab61;text-align: center; vertical-align: middle;\"> </td>\n",
       " <td bgcolor=\"#c7ab61\" style=\"width:1px;\"></td>\n",
       " <td style=\"padding:3px;border-bottom: 1px solid #c7ab61;text-align: center; vertical-align: middle;\">ⓓ자장면/ⓓ사천자장면/ⓓ삼선짬뽕/ⓕ짬짜면/7000 치킨탕수육<br/>\n",
       " ⓓ짜장볶음밥&amp;요구르트 </td>\n",
       " <td bgcolor=\"#c7ab61\" style=\"width:1px;\"></td>\n",
       " <td style=\"padding:3px;border-bottom: 1px solid #c7ab61;text-align: center; vertical-align: middle;\"> </td>\n",
       " </tr>, <tr>\n",
       " <td style=\"padding:3px;border-bottom: 1px solid #c7ab61;text-align: center; vertical-align: middle;\"><span class=\"left_text14\">상아회관<br/>연건켐퍼스 19동</span></td>\n",
       " <td bgcolor=\"#c7ab61\" style=\"width:1px;\"></td>\n",
       " <td style=\"padding:3px;border-bottom: 1px solid #c7ab61;text-align: center; vertical-align: middle;\"> </td>\n",
       " <td bgcolor=\"#c7ab61\" style=\"width:1px;\"></td>\n",
       " <td style=\"padding:3px;border-bottom: 1px solid #c7ab61;text-align: center; vertical-align: middle;\">ⓔ오므라이스(크림스프,마카로니샐러드,단무지부추무침,배추김치) </td>\n",
       " <td bgcolor=\"#c7ab61\" style=\"width:1px;\"></td>\n",
       " <td style=\"padding:3px;border-bottom: 1px solid #c7ab61;text-align: center; vertical-align: middle;\"> </td>\n",
       " </tr>, <tr>\n",
       " <td style=\"padding:3px;border-bottom: 1px solid #c7ab61;text-align: center; vertical-align: middle;\"><span class=\"left_text14\">소담마루<br/>동원생활관 113동 3층</span></td>\n",
       " <td bgcolor=\"#c7ab61\" style=\"width:1px;\"></td>\n",
       " <td style=\"padding:3px;border-bottom: 1px solid #c7ab61;text-align: center; vertical-align: middle;\"> </td>\n",
       " <td bgcolor=\"#c7ab61\" style=\"width:1px;\"></td>\n",
       " <td style=\"padding:3px;border-bottom: 1px solid #c7ab61;text-align: center; vertical-align: middle;\">한일식 Serving 메뉴 </td>\n",
       " <td bgcolor=\"#c7ab61\" style=\"width:1px;\"></td>\n",
       " <td style=\"padding:3px;border-bottom: 1px solid #c7ab61;text-align: center; vertical-align: middle;\">한일식 Serving 메뉴 </td>\n",
       " </tr>, <tr>\n",
       " <td style=\"padding:3px;border-bottom: 1px solid #c7ab61;text-align: center; vertical-align: middle;\"><span class=\"left_text14\">220동식당<br/>3단계대학원연구동(220동) </span></td>\n",
       " <td bgcolor=\"#c7ab61\" style=\"width:1px;\"></td>\n",
       " <td style=\"padding:3px;border-bottom: 1px solid #c7ab61;text-align: center; vertical-align: middle;\"> </td>\n",
       " <td bgcolor=\"#c7ab61\" style=\"width:1px;\"></td>\n",
       " <td style=\"padding:3px;border-bottom: 1px solid #c7ab61;text-align: center; vertical-align: middle;\">ⓔ뚝)돌솥비빔밥/ⓓ브로콜리카레라이스 </td>\n",
       " <td bgcolor=\"#c7ab61\" style=\"width:1px;\"></td>\n",
       " <td style=\"padding:3px;border-bottom: 1px solid #c7ab61;text-align: center; vertical-align: middle;\">ⓔ베이컨볶음밥&amp;후라이 </td>\n",
       " </tr>, <tr>\n",
       " <td style=\"padding:3px;border-bottom: 1px solid #c7ab61;text-align: center; vertical-align: middle;\"><span class=\"left_text14\">라운지오<br/>동원생활관(113동) 1층</span></td>\n",
       " <td bgcolor=\"#c7ab61\" style=\"width:1px;\"></td>\n",
       " <td style=\"padding:3px;border-bottom: 1px solid #c7ab61;text-align: center; vertical-align: middle;\"> </td>\n",
       " <td bgcolor=\"#c7ab61\" style=\"width:1px;\"></td>\n",
       " <td style=\"padding:3px;border-bottom: 1px solid #c7ab61;text-align: center; vertical-align: middle;\">피자, 스파게티류 </td>\n",
       " <td bgcolor=\"#c7ab61\" style=\"width:1px;\"></td>\n",
       " <td style=\"padding:3px;border-bottom: 1px solid #c7ab61;text-align: center; vertical-align: middle;\">피자, 스파게티류 </td>\n",
       " </tr>]"
      ]
     },
     "execution_count": 140,
     "metadata": {},
     "output_type": "execute_result"
    }
   ],
   "source": [
    "from datetime import datetime\n",
    "\n",
    "\n",
    "html =urllib.request.urlopen(\"http://www.snuco.com/html/restaurant/restaurant_menu2.asp?date=\"+today)\n",
    "soup=BeautifulSoup(html, 'html.parser')\n",
    "x = soup.select('.Content_bg table tbody tr')"
   ]
  },
  {
   "cell_type": "code",
   "execution_count": 1,
   "metadata": {
    "collapsed": false
   },
   "outputs": [
    {
     "ename": "IndentationError",
     "evalue": "unindent does not match any outer indentation level (<ipython-input-1-9dca2e00fa44>, line 24)",
     "output_type": "error",
     "traceback": [
      "\u001b[0;36m  File \u001b[0;32m\"<ipython-input-1-9dca2e00fa44>\"\u001b[0;36m, line \u001b[0;32m24\u001b[0m\n\u001b[0;31m    today = datetime.now()\u001b[0m\n\u001b[0m                          ^\u001b[0m\n\u001b[0;31mIndentationError\u001b[0m\u001b[0;31m:\u001b[0m unindent does not match any outer indentation level\n"
     ]
    }
   ],
   "source": [
    "def crawl_SNU_html(html,today):\n",
    "        snu = School.objects.get(name=\"서울대\")\n",
    "        soup = BeautifulSoup(html, 'html.parser')\n",
    "        snu_list1 = soup.select('.Content_bg table tbody tr')\n",
    "        for restaurant in snu_list1[1:] :\n",
    "            rest_name = restaurant.find('span').contents[0]\n",
    "\n",
    "            rest = Restaurant.objects.get(name=rest_name)\n",
    "\n",
    "            mornings = restaurant.select('td')[2].contents[0].replace('\\xa0','').split('/')\n",
    "            if mornings[0] !='':\n",
    "                for morning in mornings :\n",
    "                    cls.objects.create(school = snu , restaurant = rest, name = morning , time = \"morning\", meal_date = today)\n",
    "\n",
    "            lunchs = restaurant.select('td')[4].contents[0].replace('\\xa0','').split('/')\n",
    "            if lunchs[0] !='':\n",
    "                for lunch in lunchs :\n",
    "                    cls.objects.create(school = snu , restaurant = rest, name = lunch , time = \"lunch\", meal_date = today)\n",
    "\n",
    "            dinners = restaurant.select('td')[6].contents[0].replace('\\xa0','').split('/')\n",
    "            if dinners[0] !='':\n",
    "                for dinner in dinners :\n",
    "                    cls.objects.create(school = snu , restaurant = rest, name = dinner , time = \"dinner\", meal_date = today)\n",
    "    today = datetime.now()\n",
    "    html = urllib.request.urlopen(\"http://www.snuco.com/html/restaurant/restaurant_menu1.asp?date=\"+today.strftime(\"%Y-%m-%d\"))\n",
    "    crawl_SNU_html(html,today)\n",
    "    html = urllib.request.urlopen(\"http://www.snuco.com/html/restaurant/restaurant_menu2.asp?date=\"+today.strftime(\"%Y-%m-%d\"))\n",
    "    crawl_SNU_html(html,today)"
   ]
  },
  {
   "cell_type": "code",
   "execution_count": null,
   "metadata": {
    "collapsed": true
   },
   "outputs": [],
   "source": []
  },
  {
   "cell_type": "code",
   "execution_count": null,
   "metadata": {
    "collapsed": true
   },
   "outputs": [],
   "source": []
  },
  {
   "cell_type": "code",
   "execution_count": null,
   "metadata": {
    "collapsed": true
   },
   "outputs": [],
   "source": []
  },
  {
   "cell_type": "code",
   "execution_count": null,
   "metadata": {
    "collapsed": true
   },
   "outputs": [],
   "source": []
  },
  {
   "cell_type": "code",
   "execution_count": null,
   "metadata": {
    "collapsed": true
   },
   "outputs": [],
   "source": []
  }
 ],
 "metadata": {
  "anaconda-cloud": {},
  "kernelspec": {
   "display_name": "Python [conda root]",
   "language": "python",
   "name": "conda-root-py"
  },
  "language_info": {
   "codemirror_mode": {
    "name": "ipython",
    "version": 3
   },
   "file_extension": ".py",
   "mimetype": "text/x-python",
   "name": "python",
   "nbconvert_exporter": "python",
   "pygments_lexer": "ipython3",
   "version": "3.5.2"
  }
 },
 "nbformat": 4,
 "nbformat_minor": 1
}
