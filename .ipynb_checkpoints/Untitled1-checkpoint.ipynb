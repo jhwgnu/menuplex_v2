{
 "cells": [
  {
   "cell_type": "markdown",
   "metadata": {},
   "source": [
    "### 크롤링 설정"
   ]
  },
  {
   "cell_type": "code",
   "execution_count": 306,
   "metadata": {
    "collapsed": true
   },
   "outputs": [],
   "source": [
    "import requests, urllib.request\n",
    "from datetime import datetime\n",
    "from bs4 import BeautifulSoup"
   ]
  },
  {
   "cell_type": "markdown",
   "metadata": {},
   "source": [
    "### 서울대학교 크롤링"
   ]
  },
  {
   "cell_type": "code",
   "execution_count": 2,
   "metadata": {
    "collapsed": false
   },
   "outputs": [
    {
     "data": {
      "text/plain": [
       "'학생회관식당'"
      ]
     },
     "execution_count": 2,
     "metadata": {},
     "output_type": "execute_result"
    }
   ],
   "source": [
    "html =urllib.request.urlopen(\"http://www.snuco.com/html/restaurant/restaurant_menu1.asp?date=2017-02-07\")\n",
    "soup=BeautifulSoup(html, 'html.parser')\n",
    "\n",
    "x = soup.select('.Content_bg table tbody tr')\n",
    "\n",
    "restaurant_name = x[1].find('span').contents[0]\n",
    "restaurant_name"
   ]
  },
  {
   "cell_type": "code",
   "execution_count": 100,
   "metadata": {
    "collapsed": false
   },
   "outputs": [
    {
     "data": {
      "text/plain": [
       "['ⓕ쌈정식', 'ⓒ버섯육개장']"
      ]
     },
     "execution_count": 100,
     "metadata": {},
     "output_type": "execute_result"
    }
   ],
   "source": [
    "dinner = x[2].select('td')[6].contents[0]\n",
    "dinner.replace('\\xa0','').split('/')"
   ]
  },
  {
   "cell_type": "code",
   "execution_count": 102,
   "metadata": {
    "collapsed": false,
    "scrolled": true
   },
   "outputs": [
    {
     "data": {
      "text/plain": [
       "['ⓓ돈까스커리', 'ⓓ순두부찌개']"
      ]
     },
     "execution_count": 102,
     "metadata": {},
     "output_type": "execute_result"
    }
   ],
   "source": [
    "lunch = x[2].select('td')[4].contents[0]\n",
    "lunch.replace('\\xa0','').split('/')"
   ]
  },
  {
   "cell_type": "code",
   "execution_count": 101,
   "metadata": {
    "collapsed": false
   },
   "outputs": [
    {
     "data": {
      "text/plain": [
       "['']"
      ]
     },
     "execution_count": 101,
     "metadata": {},
     "output_type": "execute_result"
    }
   ],
   "source": [
    "morning = x[2].select('td')[2].contents[0]\n",
    "morning.replace('\\xa0','').split('/')"
   ]
  },
  {
   "cell_type": "code",
   "execution_count": 8,
   "metadata": {
    "collapsed": false
   },
   "outputs": [
    {
     "name": "stdout",
     "output_type": "stream",
     "text": [
      "4식당\n",
      "lunch :ⓕ매콤치즈불닭\n",
      "lunch :ⓕ오므라이스&연어치즈돈까스\n",
      "dinner : ⓕ꼬치소세지부대찌개&샤워크림통감자구이\n",
      "두레미담\n",
      "lunch :ⓘ묵은지김치찌개,매실소스등심탕수육,후식음료\n",
      "dinner : ⓘ철판쭈꾸미덮밥,참치샌드위치,후식음료\n",
      "301동식당\n",
      "lunch :ⓔ돈육김치찌개&모듬사리\n",
      "lunch :ⓔ일식라멘\n",
      "lunch :ⓔ301마요덮밥\n",
      "lunch :ⓕ돈까스4종소스(선택1)\n",
      "dinner : ⓔ토마토소스리조또\n",
      "예술계식당(74동)\n",
      "lunch :ⓖ철판닭갈비\n",
      "lunch :ⓗ고구마치즈돈까스&바게트\n",
      "dinner : ⓕ사천식짜장덮밥&짬뽕수제비국\n",
      "샤반\n",
      "lunch :한식 Serving 메뉴\n",
      "dinner : 한식 Serving 메뉴\n",
      "공대간이식당\n",
      "lunch :ⓓ자장면\n",
      "lunch :ⓓ사천자장면\n",
      "lunch :ⓓ삼선짬뽕\n",
      "lunch :ⓕ짬짜면\n",
      "lunch :7000 치킨탕수육\n",
      "상아회관\n",
      "lunch :ⓔ삼색나물비빔밥(홍합미역국,고순볶음,파래무침,배추김치)\n",
      "소담마루\n",
      "lunch :한일식 Serving 메뉴\n",
      "dinner : 한일식 Serving 메뉴\n",
      "220동식당\n",
      "lunch :ⓔ사골떡만두국\n",
      "lunch :ⓓ미트소스스파게티\n",
      "dinner : ⓔ뚝)된장찌개\n",
      "dinner : ⓓ참치마요덮밥\n",
      "라운지오\n",
      "lunch :피자, 스파게티류\n",
      "dinner : 피자, 스파게티류\n"
     ]
    }
   ],
   "source": [
    "html =urllib.request.urlopen(\"http://www.snuco.com/html/restaurant/restaurant_menu2.asp?date=2017-02-07\")\n",
    "soup=BeautifulSoup(html, 'html.parser')\n",
    "\n",
    "snu_list1 = soup.select('.Content_bg table tbody tr')\n",
    "\n",
    "for restaurant in snu_list1[1:] :\n",
    "    restaurant_name = restaurant.find('span').contents[0]\n",
    "    print(restaurant.find('span').contents[0])\n",
    "    \n",
    "    mornings = restaurant.select('td')[2].contents[0].replace('\\xa0','').split('/')\n",
    "    if mornings[0] !='':\n",
    "        for morning in mornings :\n",
    "            print(\"morning :\" + morning)\n",
    "            \n",
    "    lunchs = restaurant.select('td')[4].contents[0].replace('\\xa0','').split('/')\n",
    "    if lunchs[0] !='':\n",
    "        for lunch in lunchs :\n",
    "            print(\"lunch :\" + lunch)\n",
    "    \n",
    "    dinners = restaurant.select('td')[6].contents[0].replace('\\xa0','').split('/')\n",
    "    if dinners[0] !='':\n",
    "        for dinner in dinners :\n",
    "            print(\"dinner : \"+dinner)"
   ]
  },
  {
   "cell_type": "code",
   "execution_count": 105,
   "metadata": {
    "collapsed": false
   },
   "outputs": [
    {
     "data": {
      "text/plain": [
       "'4식당'"
      ]
     },
     "execution_count": 105,
     "metadata": {},
     "output_type": "execute_result"
    }
   ],
   "source": [
    "html =urllib.request.urlopen(\"http://www.snuco.com/html/restaurant/restaurant_menu2.asp\")\n",
    "soup=BeautifulSoup(html, 'html.parser')\n",
    "x = soup.select('.Content_bg table tbody tr')\n",
    "\n"
   ]
  },
  {
   "cell_type": "code",
   "execution_count": 111,
   "metadata": {
    "collapsed": false
   },
   "outputs": [
    {
     "name": "stdout",
     "output_type": "stream",
     "text": [
      "학생회관식당\n",
      "morning :  ['ⓐ버섯스크램블에그']\n",
      "lunch :  ['ⓓ데리치킨', 'ⓐ마파두부', 'ⓓ돌솥부대찌개']\n",
      "dinner :  ['ⓓ자반고등어구이', 'ⓐ무쇠고기국']\n",
      "3식당\n",
      "morning :  ['']\n",
      "lunch :  ['ⓓ돈까스커리', 'ⓓ순두부찌개']\n",
      "dinner :  ['ⓕ쌈정식', 'ⓒ버섯육개장']\n",
      "기숙사식당\n",
      "morning :  ['ⓒ조개탕']\n",
      "lunch :  ['ⓓ단호박토마토소스커리', 'ⓕ돌솥영계백숙']\n",
      "dinner :  ['ⓒ북어탕', 'ⓓ쇠고기브로콜리볶음', 'ⓕ새우튀김돈까스벤또']\n",
      "자하연식당\n",
      "morning :  ['']\n",
      "lunch :  ['ⓓ얼큰홍합어묵꼬치', 'ⓓ마늘볶음밥&찹소스']\n",
      "dinner :  ['ⓒ청국장찌개', 'ⓕ한방닭찜']\n",
      "302동식당\n",
      "morning :  ['']\n",
      "lunch :  ['ⓓ낙지볶음&소면', 'ⓓ만두육개장']\n",
      "dinner :  ['ⓒ미역수제비', 'ⓓ쇠고기브로콜리볶음']\n",
      "솔밭간이식당\n",
      "morning :  ['']\n",
      "lunch :  ['']\n",
      "dinner :  ['']\n",
      "동원관식당\n",
      "morning :  ['']\n",
      "lunch :  ['ⓒ잡채덮밥', 'ⓕ영계백숙']\n",
      "dinner :  ['ⓓ감자탕', 'ⓓ삼선볶음밥&짜장소스']\n",
      "감골식당\n",
      "morning :  ['']\n",
      "lunch :  ['ⓒ새우된장찌개', 'ⓓ양념치킨']\n",
      "dinner :  ['ⓓ오삼불고기']\n"
     ]
    }
   ],
   "source": [
    "for restaurant in snu_list1[1:] :\n",
    "    restaurant_name = restaurant.find('span').contents[0]\n",
    "    print(restaurant.find('span').contents[0])\n",
    "    morning = restaurant.select('td')[2].contents[0].replace('\\xa0','').split('/')\n",
    "    print(\"morning : \",morning)\n",
    "    lunch = restaurant.select('td')[4].contents[0].replace('\\xa0','').split('/')\n",
    "    print(\"lunch : \",lunch)\n",
    "    dinner = restaurant.select('td')[6].contents[0].replace('\\xa0','').split('/')\n",
    "    print(\"dinner : \",dinner)"
   ]
  },
  {
   "cell_type": "markdown",
   "metadata": {},
   "source": [
    "# 고려대학교"
   ]
  },
  {
   "cell_type": "code",
   "execution_count": 220,
   "metadata": {
    "collapsed": false
   },
   "outputs": [],
   "source": [
    "html =urllib.request.urlopen(\"http://www.korea.ac.kr/user/restaurantMenuAllList.do?siteId=university\")\n",
    "soup=BeautifulSoup(html, 'html.parser')"
   ]
  },
  {
   "cell_type": "code",
   "execution_count": 319,
   "metadata": {
    "collapsed": false
   },
   "outputs": [
    {
     "name": "stdout",
     "output_type": "stream",
     "text": [
      "안암학사 식당\n",
      "날짜 : 2 6\n",
      "메뉴 : 된장찌개/쌀밥/삼치구이&와사비장/멸치고추장볶음/느타리야채볶음/배추김치\n",
      "날짜 : 2 7\n",
      "메뉴 : 얼큰짬뽕국/쌀밥/군만두/짜사이무침/배추김치/요구르트\n",
      "날짜 : 2 8\n",
      "메뉴 : 카레라이스/무순장국/미트볼구이/양상추샐러드&드레싱/배추김치/사과젤리\n",
      "날짜 : 2 9\n",
      "메뉴 : 들깨탕/쌀밥/볼어묵조림/충무식오징어무침/두부쑥갓무침/깍두기\n",
      "날짜 : 2 10\n",
      "메뉴 : 불닭마요덮밥/미소시루/고구마맛탕/코울슬로/단무지/배추김치\n",
      "날짜 : 2 11\n",
      "메뉴 : 제육생야채비빔밥&된마소스/탕파국/김말이튀김/미역줄기볶음/배추김치\r\n",
      "\t\t\n",
      "산학관 식당\n",
      "날짜 : 2 6\n",
      "메뉴 시간)  lunch 설렁탕&소면 잡곡밥 닭버섯볶음 도토리묵김치무침 깍두기\n",
      "메뉴 시간)  lunch 제육김치덮밥 순두부맑은국 김말이강정 도토리묵김치무침 깍두기\n",
      "메뉴 시간)  dinner 어묵매운탕 쌀밥 삼치엿장구이 감자조림 쑥갓나물 깍두기\n",
      "메뉴 시간)  dinner 야채샐러드&매실차\n",
      "날짜 : 2 7\n",
      "메뉴 시간)  lunch 동태매운탕 잡곡밥 비엔나야채볶음 열무된장무침 포기김치\n",
      "메뉴 시간)  lunch 카레라이스 미소장국 어묵탕수 열무된장무침 포기김치\n",
      "메뉴 시간)  dinner 단호박영양밥 호박새우젓국 감자고로케 부추잡채 연두부&양념장 포기김치\n",
      "메뉴 시간)  dinner 야채샐러드&복숭아차\n",
      "날짜 : 2 8\n",
      "메뉴 시간)  lunch 우거지해장국 잡곡밥 두부양념조림 마늘쫑햄볶음 깍두기\n",
      "메뉴 시간)  lunch 등심돈까스/쌀밥 크림스프 클링클컷&케찹 마늘쫑햄볶음 깍두기\n",
      "메뉴 시간)  dinner 순두부찌개 쌀밥 닭야채볶음 청포묵김가루무침 양념깻잎지 깍두기\n",
      "메뉴 시간)  dinner 야채샐러드&매실차\n",
      "날짜 : 2 9\n",
      "메뉴 시간)  lunch 홍합탕 잡곡밥 돈불고기 참나물겉절이 포기김치\n",
      "메뉴 시간)  lunch 짜장면 계란파국 만두튀김 참나물겉절이 포기김치\n",
      "메뉴 시간)  dinner 강된장비빔밥 콩나물국 동그랑땡구이 치커리사과무침 구이김 포기김치\n",
      "메뉴 시간)  dinner 야채샐러드&미숫가루\n",
      "날짜 : 2 10\n",
      "메뉴 시간)  lunch 삼색수제비국 잡곡밥 떡갈비조림 콩나물무침 깍두기\n",
      "메뉴 시간)  lunch 미트볼스파게티 콘스프 해시브라운 콩나물무침 깍두기\n",
      "메뉴 시간)  dinner 청국장찌개 쌀밥 고등어무조림 숙주나물 콩자반 깍두기\n",
      "메뉴 시간)  dinner 야채샐러드&레몬차\n",
      "날짜 : 2 11\n",
      "메뉴 : 중식-잔치국수 쌀밥 야채까스&케찹 무생채 포기김치 야채샐러드&식혜\n",
      "생활관 카페테리아\n",
      "날짜 : 2 6\n",
      "메뉴 : 참치김치덮밥,맛김가루,유부쫄면,쌀밥,흑미밥,콩나물맑은국,꽁치구이,실속돈까스,제육볶음,양념두부조림,비엔나문어튀김,도토리묵*양념장,건파래자반,매콤콩나물무침,그린샐러드,배추김치,도시락김,쿨스타,망고플리또,요구르트,소이라떼\n",
      "날짜 : 2 7\n",
      "메뉴 : 새우까스마요덮밥,김치말이국수,쌀밥,흑미밥,팽이미소시루,돈까스닭갈비,고등어조림,해물야채까스*타르소스,순대떡볶이,새송이우엉채볶음,동그랑땡전,연두부*양념장,치커리겉절이,그린샐러드,배추김치,도시락김,쿨스타,망고플리또,요구르트,소이라떼\n",
      "날짜 : 2 8\n",
      "메뉴 : 닭갈비볶음밥,사골만두국수,쌀밥,흑미밥,미역국,실속치킨까스,콩불,깐풍마요,감자채표고볶음,고추장두부조림,버섯잡채,양배추쌈*쌈장,숙주무침,그린샐러드,배추김치,도시락김,쿨스타,망고플리또,요구르트,소이라떼\n",
      "날짜 : 2 9\n",
      "메뉴 : 비엔나김치볶음밥,쌀밥,흑미밥,열무된장국,치즈돈까스,데리야끼숙주닭갈비,모둠탕수육,새송이굴소스볶음,옛날소시지전,쥐어채조림,미역초무침,청경채겉절이,그린샐러드,배추김치,도시락김,쿨스타,망고플리또,요구르트,소이라떼\n",
      "날짜 : 2 10\n",
      "메뉴 : 생선까스카레라이스,쌀밥,흑미밥,유부우동장국,순대제육볶음,알떡,두부김치,미니돈까스,청포묵*김가루,콩나물무침\n",
      "날짜 : 2 11\n",
      "메뉴 : 떡라면,치즈라면,미트볼카레라이스,유부우동장국,단무지,실속돈까스정식,감자튀김\n",
      "국제관 카페테리아\n",
      "날짜 : 2 6\n",
      "메뉴 : A코너: 비엔나김치볶음밥, 맑은우동국물, 생선커틀릿, 깍두기\r\n",
      "\t\t\n",
      "날짜 : 2 7\n",
      "메뉴 : B코너: 멕시칸필라프*또띠아그릇, 우동국물, 푸실리파스타, 요구르트, 배추김치\r\n",
      "\t\t\n",
      "날짜 : 2 8\n",
      "메뉴 : B코너: 철판두부두루치기, 쌀밥, 미소시루, 그린샐러드*드레싱, 깍두기\r\n",
      "\t\t\n",
      "날짜 : 2 9\n",
      "메뉴 : B코너: 치즈돌솥알밥, 맑은우동국물, 어묵볶음, 배추김치\r\n",
      "\t\t\n",
      "날짜 : 2 10\n",
      "메뉴 : B코너:치즈돌솥알밥, 맑은우동국물, 어묵볶음, 배추김치\r\n",
      "\t\t\n",
      "날짜 : 2 11\n",
      "메뉴 : 운영이 없습니다^^\n",
      "교우회관 학생식당\n",
      "학생회관 자율식당\n",
      "날짜 : 2 6\n",
      "메뉴 : 김치덮밥&계란후라이,올갱이해장국(뚝),녹차사태조림,닭감자볶음,생선까스&멕시칸샐러드,김말이강정\n",
      "날짜 : 2 7\n",
      "메뉴 : 김밥볶음밥,불고기당면찌개(뚝),치킨까스&소스,제육볶음&양배추쌈,햄어묵볶음,치즈스틱\n",
      "날짜 : 2 8\n",
      "메뉴 : 장똑똑이비빔밥,조랭이떡미역국,치즈닭갈비,육전,집게다리&콘버터,찐만두\n",
      "날짜 : 2 9\n",
      "메뉴 : 참치야채볶음밥,육개장(뚝),씨앗닭강정,마늘종사태조림,참치푸실리샐러드,떡감자\n",
      "날짜 : 2 10\n",
      "메뉴 : 마파두부덮밥,닭곰탕&당면,폭찹,새우동그랑땡전,콘후레이크샐러드,고추잡채만두\n",
      "날짜 : 2 11\n",
      "메뉴 : 햄야채볶음밥,호박고추장찌개,만두탕수,샐러드\n"
     ]
    }
   ],
   "source": [
    "for index in range(0,len(soup.select(\".ku_restaurant ul li\"))) :\n",
    "    x= soup.select(\".ku_restaurant ul li\")[index]\n",
    "    if x.div and x.div.strong != None :\n",
    "        print(x.div.strong.string) # 이름 \n",
    "    else :\n",
    "        if x.span :\n",
    "            mon = x.find_all(\"span\",class_=\"date\")[0].contents[1].string\n",
    "            day = x.find_all(\"span\",class_=\"date\")[0].contents[3].string\n",
    "            menu = x.select(\".menulist\")[0]\n",
    "            print(\"날짜 :\"  , mon,day)\n",
    "            if menu.select(\"p\"):\n",
    "                #print(\"메뉴 :\",menu.select(\"p\"))\n",
    "                for i in range(0,len(menu.select(\"p\"))):\n",
    "                    m_list = menu.select(\"p\")[i].string.split('-')\n",
    "                    print(\"메뉴 시간) \",date_change(m_list[0]),m_list[1])\n",
    "            else : \n",
    "                print(\"메뉴 :\",menu.next.string)"
   ]
  },
  {
   "cell_type": "code",
   "execution_count": 178,
   "metadata": {
    "collapsed": false
   },
   "outputs": [
    {
     "data": {
      "text/plain": [
       "['안암학사 식당']"
      ]
     },
     "execution_count": 178,
     "metadata": {},
     "output_type": "execute_result"
    }
   ],
   "source": [
    "x.div.strong.contents"
   ]
  },
  {
   "cell_type": "code",
   "execution_count": 179,
   "metadata": {
    "collapsed": false
   },
   "outputs": [
    {
     "data": {
      "text/plain": [
       "<li>\n",
       "<span class=\"day\">월</span>\n",
       "<span class=\"date\">\n",
       "<span>2</span>\n",
       "\t\t/\n",
       "\t\t<span>6</span>\n",
       "</span>\n",
       "<p class=\"menulist\" contenteditable=\"true\" style=\"cursor: default;\">된장찌개/쌀밥/삼치구이&amp;와사비장/멸치고추장볶음/느타리야채볶음/배추김치</p>\n",
       "</li>"
      ]
     },
     "execution_count": 179,
     "metadata": {},
     "output_type": "execute_result"
    }
   ],
   "source": [
    "x.find_all('li')[0]"
   ]
  },
  {
   "cell_type": "markdown",
   "metadata": {},
   "source": [
    "## 제목"
   ]
  },
  {
   "cell_type": "code",
   "execution_count": 125,
   "metadata": {
    "collapsed": false
   },
   "outputs": [
    {
     "data": {
      "text/plain": [
       "[]"
      ]
     },
     "execution_count": 125,
     "metadata": {},
     "output_type": "execute_result"
    }
   ],
   "source": [
    "knu_content.select(\"li strong\")"
   ]
  },
  {
   "cell_type": "markdown",
   "metadata": {},
   "source": [
    "## 날짜 "
   ]
  },
  {
   "cell_type": "markdown",
   "metadata": {},
   "source": [
    "### 월"
   ]
  },
  {
   "cell_type": "code",
   "execution_count": 52,
   "metadata": {
    "collapsed": false
   },
   "outputs": [
    {
     "data": {
      "text/plain": [
       "['2']"
      ]
     },
     "execution_count": 52,
     "metadata": {},
     "output_type": "execute_result"
    }
   ],
   "source": [
    "soup.select(\".ku_restaurant li span.date span\")[0].contents"
   ]
  },
  {
   "cell_type": "markdown",
   "metadata": {},
   "source": [
    "### 일"
   ]
  },
  {
   "cell_type": "code",
   "execution_count": 54,
   "metadata": {
    "collapsed": false
   },
   "outputs": [
    {
     "data": {
      "text/plain": [
       "['6']"
      ]
     },
     "execution_count": 54,
     "metadata": {},
     "output_type": "execute_result"
    }
   ],
   "source": [
    "soup.select(\".ku_restaurant li span.date span\")[1].contents"
   ]
  },
  {
   "cell_type": "markdown",
   "metadata": {},
   "source": [
    "### 음식"
   ]
  },
  {
   "cell_type": "markdown",
   "metadata": {},
   "source": [
    "#### 안함학사 / 생활관 카페테리아 / 자율식당 (메뉴 1개)"
   ]
  },
  {
   "cell_type": "code",
   "execution_count": 58,
   "metadata": {
    "collapsed": false
   },
   "outputs": [
    {
     "data": {
      "text/plain": [
       "['된장찌개/쌀밥/삼치구이&와사비장/멸치고추장볶음/느타리야채볶음/배추김치']"
      ]
     },
     "execution_count": 58,
     "metadata": {},
     "output_type": "execute_result"
    }
   ],
   "source": [
    "soup.select(\".ku_restaurant .menulist\")[0].contents"
   ]
  },
  {
   "cell_type": "markdown",
   "metadata": {},
   "source": [
    "##### 예외적 상황 (안함학사 일요일)"
   ]
  },
  {
   "cell_type": "code",
   "execution_count": 66,
   "metadata": {
    "collapsed": false
   },
   "outputs": [
    {
     "data": {
      "text/plain": [
       "['일 2 / 12\\r\\n\\t\\t']"
      ]
     },
     "execution_count": 66,
     "metadata": {},
     "output_type": "execute_result"
    }
   ],
   "source": [
    "soup.select(\".ku_restaurant .menulist div\")[1].contents"
   ]
  },
  {
   "cell_type": "markdown",
   "metadata": {},
   "source": [
    "#### 산학관 식당 / 국제관 카페테리아 (메뉴 다수)"
   ]
  },
  {
   "cell_type": "code",
   "execution_count": 118,
   "metadata": {
    "collapsed": false
   },
   "outputs": [
    {
     "name": "stdout",
     "output_type": "stream",
     "text": [
      "[<p style=\"cursor: default;\">중식A-설렁탕&amp;소면 잡곡밥 닭버섯볶음 도토리묵김치무침 깍두기</p>, <p style=\"cursor: default;\">중식B-제육김치덮밥 순두부맑은국 김말이강정 도토리묵김치무침 깍두기</p>, <p style=\"cursor: default;\">석식-어묵매운탕 쌀밥 삼치엿장구이 감자조림 쑥갓나물 깍두기</p>, <p style=\"cursor: default;\">샐러드바-야채샐러드&amp;매실차</p>]\n"
     ]
    }
   ],
   "source": [
    "menu_p = soup.select(\".ku_restaurant p.menulist\")[6]\n",
    "if menu_p.select(\"p\"):\n",
    "    print(menu_p.select(\"p\"))\n",
    "else : \n",
    "    print(menu_p.next)"
   ]
  },
  {
   "cell_type": "markdown",
   "metadata": {},
   "source": [
    "##### 예외적 상황 ( 토요일 메뉴 1개)"
   ]
  },
  {
   "cell_type": "code",
   "execution_count": 116,
   "metadata": {
    "collapsed": false
   },
   "outputs": [
    {
     "name": "stdout",
     "output_type": "stream",
     "text": [
      "중식-잔치국수 쌀밥 야채까스&케찹 무생채 포기김치 야채샐러드&식혜\n"
     ]
    }
   ],
   "source": [
    "menu_p = soup.select(\".ku_restaurant .menulist\")[11]\n",
    "if menu_p.select(\"p\"):\n",
    "    menu_p.select(\"p\")\n",
    "else : \n",
    "    menu_p.next"
   ]
  },
  {
   "cell_type": "code",
   "execution_count": 311,
   "metadata": {
    "collapsed": false
   },
   "outputs": [
    {
     "data": {
      "text/plain": [
       "datetime.datetime(2017, 2, 11, 0, 0)"
      ]
     },
     "execution_count": 311,
     "metadata": {},
     "output_type": "execute_result"
    }
   ],
   "source": [
    "Y = str(datetime.now().year)\n",
    "mon = '2'\n",
    "day = '11'\n",
    "datetime.strptime(Y+\" \"+mon+\" \"+day,\"%Y %m %d\")"
   ]
  },
  {
   "cell_type": "code",
   "execution_count": 315,
   "metadata": {
    "collapsed": true
   },
   "outputs": [],
   "source": [
    "def date_change(date):\n",
    "    if (\"중식\" or \"점심\") in date:\n",
    "        return \"lunch\"\n",
    "    elif (\"석식\" or \"저녁\") in date:\n",
    "        return \"dinner\"\n",
    "    elif (\"조식\" or \"아침\") in date:\n",
    "        return \"morning\"\n",
    "    else :\n",
    "        return \"dinner\""
   ]
  },
  {
   "cell_type": "markdown",
   "metadata": {
    "collapsed": false
   },
   "source": [
    "## 성환이형이 한 한양대"
   ]
  },
  {
   "cell_type": "code",
   "execution_count": 324,
   "metadata": {
    "collapsed": false
   },
   "outputs": [
    {
     "name": "stdout",
     "output_type": "stream",
     "text": [
      "식당 이름 :  \n",
      "아침 :  \n",
      "점심 :  \n",
      "저녁 :  \n",
      "-----------------------------\n",
      "식당 이름 :  \n",
      "아침 :  \n",
      "점심 :  [담향] 뚝배기호박된장찌개, 차조밥, 모듬장조림, 탕평채김가루무침, 시금치생채, 깍두기, [bonne table] 미트볼토마토스파게티, 시저샐러드&치아바타, 크림스프, 추가밥, 피클+할라피뇨, 깍두기, 스위플레드오렌지주스\n",
      "저녁 :  [bonne table] 철판데리야끼치킨&매콤쫄면무침, 김가루밥, 두부미소국, 오이지무침, 깍두기, 계절과일(감귤)\n",
      "-----------------------------\n",
      "식당 이름 :  \n",
      "아침 :  \n",
      "점심 :  \n",
      "저녁 :  \n",
      "-----------------------------\n",
      "식당 이름 :  \n",
      "아침 :  \n",
      "점심 :  [마루] 깐쇼새우오므라이스, 가쓰오장국, 떡볶이&고추잡채말이, 콘샐러드, 피클&꼬마산고추, 깍두기, [채움] (뚝)돈등뼈감자탕, 잡곡밥, 새송이버섯어묵볶음, 두부쑥갓나물, 고추지무침, 깍두기\n",
      "저녁 :  [채움] 오삼불고기덮밥&콩나물, 시금치된장국, 핫도그&케찹, 청포묵김가루무침, 오이지무침, 배추김치\n",
      "-----------------------------\n",
      "식당 이름 :  \n",
      "아침 :  \n",
      "점심 :  [명가소반] (뚝)제육김치볶음, 쌀밥, 미역된장국, 김구이, 콩나물무침, 맛김치, [가츠] 돈가스&미트스파게티, 우동국물, 추가밥, 양배추샐러드*키위D, 맛김치\n",
      "저녁 :  \n",
      "-----------------------------\n",
      "식당 이름 :  \n",
      "아침 :  쌀밥, 팽이장국, 섭산적구이, 양념두부조림, 견과류멸치볶음, 배추김치, 음료\n",
      "점심 :  토마토스파게티, 쌀밥, 당근크림스프, 감자튀김&왕새우튀김, 그린샐러드&드레싱, 배추김치\n",
      "저녁 :  쌀밥, 건새우미역국, 안동찜닭&당면사리, 단호박채전, 브로콜리양파초무침, 배추김치\n",
      "-----------------------------\n",
      "식당 이름 :  [학생] 라면 / 라면+공기밥 (9:30~10:20 / 14:00~14:30), [학생] 자장면 / 찐만두(16:30~18:00)\n",
      "아침 :  \n",
      "점심 :  [교직원] 얼갈이콩나물된장국, 백미밥, 매운돈갈비찜, 미트볼데리야끼조림, 청포묵&양념장, 치커리무침, 포기김치, [교직원] 치킨돈부리, 유부장국, 피자왕춘권, 치커리무침, 포기김치, [학생] 햄섞어찌개, 백미밥, 새우볼튀김, 볼어묵조림, 포기김치, [학생] 소고기계란볶음밥, [학생] 치킨까스정식\n",
      "저녁 :  [교직원] 얼갈이콩나물된장국, 백미밥, 매운돈갈비찜, 미트볼데리야끼조림, 청포묵&양념장, 치커리무침, 포기김치, [교직원] 닭갈비볶음밥&샐러드파스타, 유부장국, 피자왕춘권, 파인애플, 포기김치, [학생] 햄섞어찌개, 백미밥, 새우볼튀김, 볼어묵조림, 포기김치, [학생] 소고기계란볶음밥, [학생] 치킨까스정식\n",
      "-----------------------------\n"
     ]
    }
   ],
   "source": [
    "url_list = [\"http://www.hanyang.ac.kr/web/www/-248#none\", # 학생식당\n",
    "            \"http://www.hanyang.ac.kr/web/www/-249#none\", # 교직원식당\n",
    "            \"http://www.hanyang.ac.kr/web/www/-250#none\", # 사랑방\n",
    "            \"http://www.hanyang.ac.kr/web/www/-251#none\", # 신교직원식당\n",
    "            \"http://www.hanyang.ac.kr/web/www/-252#none\", # 신학생식당\n",
    "            \"http://www.hanyang.ac.kr/web/www/-2-#none\",  # 제2생활관식당\n",
    "            \"http://www.hanyang.ac.kr/web/www/-253#none\"  # 행원파크\n",
    "           ] \n",
    "for url in url_list:\n",
    "    html = requests.get(url).text\n",
    "    soup = BeautifulSoup(html, 'html.parser')\n",
    "    table = soup.find('tbody').find_next('tbody')\n",
    "\n",
    "    flour_food = \"\"\n",
    "    breakfast = \"\"\n",
    "    lunch = \"\"\n",
    "    dinner = \"\"\n",
    "\n",
    "    try:\n",
    "        tr = table.find('tr')\n",
    "        td = tr.find('td').find_next('td')\n",
    "        ul = td.find('ul')\n",
    "        li = ul.find_all('li')\n",
    "\n",
    "        for li_tag in li:\n",
    "            if len(li_tag) > 0:\n",
    "                if flour_food == \"\":\n",
    "                    flour_food = li_tag.string\n",
    "                else:\n",
    "                    flour_food += (\", \"+li_tag.string)\n",
    "    except AttributeError:\n",
    "        pass\n",
    "    except IndexError:\n",
    "        pass\n",
    "\n",
    "    #table.contents[0]는 tr(행), 1번째 행은 분식, 2번째 행은 조식...\n",
    "    #table.contents[0].contents[1]는 td(열), 1번째 열은 식사 종류, 2번째 열은 월요일, 3번째 열은 화요일..\n",
    "    #table.contents[0].contents[1].contents[0]은 ul.\n",
    "    #table.contents[0].contents[1].contents[0].children은 li리스트(food)\n",
    "\n",
    "    try:\n",
    "        tr = table.find('tr').find_next('tr')\n",
    "        td = tr.find('td').find_next('td')\n",
    "        ul = td.find('ul')\n",
    "        li = ul.find_all('li')\n",
    "\n",
    "        for li_tag in li:\n",
    "            if len(li_tag) > 0:\n",
    "                if breakfast == \"\":\n",
    "                    breakfast = li_tag.string\n",
    "                else:\n",
    "                    breakfast += (\", \"+li_tag.string)\n",
    "    except AttributeError:\n",
    "        pass\n",
    "    except IndexError:\n",
    "        pass\n",
    "\n",
    "    try:\n",
    "        tr = table.find('tr').find_next('tr').find_next('tr')\n",
    "        td = tr.find('td').find_next('td')\n",
    "        ul = td.find('ul')\n",
    "        li = ul.find_all('li')\n",
    "\n",
    "        for li_tag in li:\n",
    "            if len(li_tag) > 0:\n",
    "                if lunch == \"\":\n",
    "                    lunch = li_tag.string\n",
    "                else:\n",
    "                    lunch += (\", \"+li_tag.string)\n",
    "    except AttributeError:\n",
    "        pass\n",
    "    except IndexError:\n",
    "        pass\n",
    "\n",
    "    try:\n",
    "        tr = table.find('tr').find_next('tr').find_next('tr').find_next('tr')\n",
    "        td = tr.find('td').find_next('td')\n",
    "        ul = td.find('ul')\n",
    "        li = ul.find_all('li')\n",
    "\n",
    "        for li_tag in li:\n",
    "            if len(li_tag) > 0:\n",
    "                if breakfast == \"\":\n",
    "                    breakfast = li_tag.string\n",
    "                else:\n",
    "                    breakfast += (\", \"+li_tag.string)\n",
    "                if lunch == \"\":\n",
    "                    lunch = li_tag.string\n",
    "                else:\n",
    "                    lunch += (\", \"+li_tag.string)\n",
    "    except AttributeError:\n",
    "        pass\n",
    "    except IndexError:\n",
    "        pass\n",
    "\n",
    "    try:\n",
    "        tr = table.find('tr').find_next('tr').find_next('tr').find_next('tr').find_next('tr')\n",
    "        td = tr.find('td').find_next('td')\n",
    "        ul = td.find('ul')\n",
    "        li = ul.find_all('li')\n",
    "\n",
    "        for li_tag in li:\n",
    "            if len(li_tag) > 0:\n",
    "                if dinner == \"\":\n",
    "                    dinner = li_tag.string\n",
    "                else:\n",
    "                    dinner += (\", \"+li_tag.string)\n",
    "    except AttributeError:\n",
    "        pass\n",
    "    except IndexError:\n",
    "        pass\n",
    "\n",
    "    try:\n",
    "        tr = table.find('tr').find_next('tr').find_next('tr').find_next('tr').find_next('tr').find_next('tr')\n",
    "        td = tr.find('td').find_next('td')\n",
    "        ul = td.find('ul')\n",
    "        li = ul.find_all('li')\n",
    "\n",
    "        for li_tag in li:\n",
    "            if len(li_tag) > 0:\n",
    "                if lunch == \"\":\n",
    "                    lunch = li_tag.string\n",
    "                else:\n",
    "                    lunch += (\", \"+li_tag.string)\n",
    "                if dinner == \"\":\n",
    "                    dinner = li_tag.string\n",
    "                else:\n",
    "                    dinner += (\", \"+li_tag.string)\n",
    "    except AttributeError:\n",
    "        pass\n",
    "    except IndexError:\n",
    "        pass\n",
    "    print(\"상시 : \",flour_food)\n",
    "    print(\"아침 : \", breakfast)\n",
    "    print(\"점심 : \",lunch)\n",
    "    print(\"저녁 : \", dinner)\n",
    "    print(\"-----------------------------\")"
   ]
  },
  {
   "cell_type": "code",
   "execution_count": null,
   "metadata": {
    "collapsed": true
   },
   "outputs": [],
   "source": []
  },
  {
   "cell_type": "code",
   "execution_count": null,
   "metadata": {
    "collapsed": true
   },
   "outputs": [],
   "source": []
  },
  {
   "cell_type": "code",
   "execution_count": null,
   "metadata": {
    "collapsed": true
   },
   "outputs": [],
   "source": []
  },
  {
   "cell_type": "code",
   "execution_count": null,
   "metadata": {
    "collapsed": true
   },
   "outputs": [],
   "source": []
  },
  {
   "cell_type": "code",
   "execution_count": null,
   "metadata": {
    "collapsed": true
   },
   "outputs": [],
   "source": []
  },
  {
   "cell_type": "code",
   "execution_count": null,
   "metadata": {
    "collapsed": true
   },
   "outputs": [],
   "source": []
  }
 ],
 "metadata": {
  "anaconda-cloud": {},
  "kernelspec": {
   "display_name": "Python [conda root]",
   "language": "python",
   "name": "conda-root-py"
  },
  "language_info": {
   "codemirror_mode": {
    "name": "ipython",
    "version": 3
   },
   "file_extension": ".py",
   "mimetype": "text/x-python",
   "name": "python",
   "nbconvert_exporter": "python",
   "pygments_lexer": "ipython3",
   "version": "3.5.2"
  }
 },
 "nbformat": 4,
 "nbformat_minor": 1
}
