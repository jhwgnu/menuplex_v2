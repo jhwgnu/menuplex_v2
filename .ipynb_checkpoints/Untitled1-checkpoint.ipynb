{
 "cells": [
  {
   "cell_type": "code",
   "execution_count": 3,
   "metadata": {
    "collapsed": true
   },
   "outputs": [],
   "source": [
    "import requests, urllib.request\n",
    "from bs4 import BeautifulSoup"
   ]
  },
  {
   "cell_type": "code",
   "execution_count": 99,
   "metadata": {
    "collapsed": false
   },
   "outputs": [
    {
     "data": {
      "text/plain": [
       "'학생회관식당'"
      ]
     },
     "execution_count": 99,
     "metadata": {},
     "output_type": "execute_result"
    }
   ],
   "source": [
    "html =urllib.request.urlopen(\"http://www.snuco.com/html/restaurant/restaurant_menu1.asp?date=2017-02-07\")\n",
    "soup=BeautifulSoup(html, 'html.parser')\n",
    "\n",
    "x = soup.select('.Content_bg table tbody tr')\n",
    "\n",
    "restaurant_name = x[1].find('span').contents[0]\n",
    "restaurant_name"
   ]
  },
  {
   "cell_type": "code",
   "execution_count": 100,
   "metadata": {
    "collapsed": false
   },
   "outputs": [
    {
     "data": {
      "text/plain": [
       "['ⓕ쌈정식', 'ⓒ버섯육개장']"
      ]
     },
     "execution_count": 100,
     "metadata": {},
     "output_type": "execute_result"
    }
   ],
   "source": [
    "dinner = x[2].select('td')[6].contents[0]\n",
    "dinner.replace('\\xa0','').split('/')"
   ]
  },
  {
   "cell_type": "code",
   "execution_count": 102,
   "metadata": {
    "collapsed": false,
    "scrolled": true
   },
   "outputs": [
    {
     "data": {
      "text/plain": [
       "['ⓓ돈까스커리', 'ⓓ순두부찌개']"
      ]
     },
     "execution_count": 102,
     "metadata": {},
     "output_type": "execute_result"
    }
   ],
   "source": [
    "lunch = x[2].select('td')[4].contents[0]\n",
    "lunch.replace('\\xa0','').split('/')"
   ]
  },
  {
   "cell_type": "code",
   "execution_count": 101,
   "metadata": {
    "collapsed": false
   },
   "outputs": [
    {
     "data": {
      "text/plain": [
       "['']"
      ]
     },
     "execution_count": 101,
     "metadata": {},
     "output_type": "execute_result"
    }
   ],
   "source": [
    "morning = x[2].select('td')[2].contents[0]\n",
    "morning.replace('\\xa0','').split('/')"
   ]
  },
  {
   "cell_type": "code",
   "execution_count": 110,
   "metadata": {
    "collapsed": false
   },
   "outputs": [
    {
     "name": "stdout",
     "output_type": "stream",
     "text": [
      "학생회관식당\n",
      "morning :  ['ⓐ버섯스크램블에그']\n",
      "lunch :  ['ⓓ데리치킨', 'ⓐ마파두부', 'ⓓ돌솥부대찌개']\n",
      "dinner :  ['ⓓ자반고등어구이', 'ⓐ무쇠고기국']\n",
      "3식당\n",
      "morning :  ['']\n",
      "lunch :  ['ⓓ돈까스커리', 'ⓓ순두부찌개']\n",
      "dinner :  ['ⓕ쌈정식', 'ⓒ버섯육개장']\n",
      "기숙사식당\n",
      "morning :  ['ⓒ조개탕']\n",
      "lunch :  ['ⓓ단호박토마토소스커리', 'ⓕ돌솥영계백숙']\n",
      "dinner :  ['ⓒ북어탕', 'ⓓ쇠고기브로콜리볶음', 'ⓕ새우튀김돈까스벤또']\n",
      "자하연식당\n",
      "morning :  ['']\n",
      "lunch :  ['ⓓ얼큰홍합어묵꼬치', 'ⓓ마늘볶음밥&찹소스']\n",
      "dinner :  ['ⓒ청국장찌개', 'ⓕ한방닭찜']\n",
      "302동식당\n",
      "morning :  ['']\n",
      "lunch :  ['ⓓ낙지볶음&소면', 'ⓓ만두육개장']\n",
      "dinner :  ['ⓒ미역수제비', 'ⓓ쇠고기브로콜리볶음']\n",
      "솔밭간이식당\n",
      "morning :  ['']\n",
      "lunch :  ['']\n",
      "dinner :  ['']\n",
      "동원관식당\n",
      "morning :  ['']\n",
      "lunch :  ['ⓒ잡채덮밥', 'ⓕ영계백숙']\n",
      "dinner :  ['ⓓ감자탕', 'ⓓ삼선볶음밥&짜장소스']\n",
      "감골식당\n",
      "morning :  ['']\n",
      "lunch :  ['ⓒ새우된장찌개', 'ⓓ양념치킨']\n",
      "dinner :  ['ⓓ오삼불고기']\n"
     ]
    }
   ],
   "source": [
    "html =urllib.request.urlopen(\"http://www.snuco.com/html/restaurant/restaurant_menu1.asp?date=2017-02-07\")\n",
    "soup=BeautifulSoup(html, 'html.parser')\n",
    "\n",
    "snu_list1 = soup.select('.Content_bg table tbody tr')\n",
    "\n",
    "for restaurant in snu_list1[1:] :\n",
    "    restaurant_name = restaurant.find('span').contents[0]\n",
    "    print(restaurant.find('span').contents[0])\n",
    "    morning = restaurant.select('td')[2].contents[0].replace('\\xa0','').split('/')\n",
    "    if morning :\n",
    "        print(\"morning : \",morning)\n",
    "    lunch = restaurant.select('td')[4].contents[0].replace('\\xa0','').split('/')\n",
    "    print(\"lunch : \",lunch)\n",
    "    dinner = restaurant.select('td')[6].contents[0].replace('\\xa0','').split('/')\n",
    "    print(\"dinner : \",dinner)"
   ]
  },
  {
   "cell_type": "code",
   "execution_count": 105,
   "metadata": {
    "collapsed": false
   },
   "outputs": [
    {
     "data": {
      "text/plain": [
       "'4식당'"
      ]
     },
     "execution_count": 105,
     "metadata": {},
     "output_type": "execute_result"
    }
   ],
   "source": [
    "html =urllib.request.urlopen(\"http://www.snuco.com/html/restaurant/restaurant_menu2.asp\")\n",
    "soup=BeautifulSoup(html, 'html.parser')\n",
    "x = soup.select('.Content_bg table tbody tr')\n",
    "\n"
   ]
  },
  {
   "cell_type": "code",
   "execution_count": 111,
   "metadata": {
    "collapsed": false
   },
   "outputs": [
    {
     "name": "stdout",
     "output_type": "stream",
     "text": [
      "학생회관식당\n",
      "morning :  ['ⓐ버섯스크램블에그']\n",
      "lunch :  ['ⓓ데리치킨', 'ⓐ마파두부', 'ⓓ돌솥부대찌개']\n",
      "dinner :  ['ⓓ자반고등어구이', 'ⓐ무쇠고기국']\n",
      "3식당\n",
      "morning :  ['']\n",
      "lunch :  ['ⓓ돈까스커리', 'ⓓ순두부찌개']\n",
      "dinner :  ['ⓕ쌈정식', 'ⓒ버섯육개장']\n",
      "기숙사식당\n",
      "morning :  ['ⓒ조개탕']\n",
      "lunch :  ['ⓓ단호박토마토소스커리', 'ⓕ돌솥영계백숙']\n",
      "dinner :  ['ⓒ북어탕', 'ⓓ쇠고기브로콜리볶음', 'ⓕ새우튀김돈까스벤또']\n",
      "자하연식당\n",
      "morning :  ['']\n",
      "lunch :  ['ⓓ얼큰홍합어묵꼬치', 'ⓓ마늘볶음밥&찹소스']\n",
      "dinner :  ['ⓒ청국장찌개', 'ⓕ한방닭찜']\n",
      "302동식당\n",
      "morning :  ['']\n",
      "lunch :  ['ⓓ낙지볶음&소면', 'ⓓ만두육개장']\n",
      "dinner :  ['ⓒ미역수제비', 'ⓓ쇠고기브로콜리볶음']\n",
      "솔밭간이식당\n",
      "morning :  ['']\n",
      "lunch :  ['']\n",
      "dinner :  ['']\n",
      "동원관식당\n",
      "morning :  ['']\n",
      "lunch :  ['ⓒ잡채덮밥', 'ⓕ영계백숙']\n",
      "dinner :  ['ⓓ감자탕', 'ⓓ삼선볶음밥&짜장소스']\n",
      "감골식당\n",
      "morning :  ['']\n",
      "lunch :  ['ⓒ새우된장찌개', 'ⓓ양념치킨']\n",
      "dinner :  ['ⓓ오삼불고기']\n"
     ]
    }
   ],
   "source": [
    "for restaurant in snu_list1[1:] :\n",
    "    restaurant_name = restaurant.find('span').contents[0]\n",
    "    print(restaurant.find('span').contents[0])\n",
    "    morning = restaurant.select('td')[2].contents[0].replace('\\xa0','').split('/')\n",
    "    print(\"morning : \",morning)\n",
    "    lunch = restaurant.select('td')[4].contents[0].replace('\\xa0','').split('/')\n",
    "    print(\"lunch : \",lunch)\n",
    "    dinner = restaurant.select('td')[6].contents[0].replace('\\xa0','').split('/')\n",
    "    print(\"dinner : \",dinner)"
   ]
  },
  {
   "cell_type": "code",
   "execution_count": null,
   "metadata": {
    "collapsed": true
   },
   "outputs": [],
   "source": []
  }
 ],
 "metadata": {
  "anaconda-cloud": {},
  "kernelspec": {
   "display_name": "Python [conda root]",
   "language": "python",
   "name": "conda-root-py"
  },
  "language_info": {
   "codemirror_mode": {
    "name": "ipython",
    "version": 3
   },
   "file_extension": ".py",
   "mimetype": "text/x-python",
   "name": "python",
   "nbconvert_exporter": "python",
   "pygments_lexer": "ipython3",
   "version": "3.5.2"
  }
 },
 "nbformat": 4,
 "nbformat_minor": 1
}
